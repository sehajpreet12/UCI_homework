{
 "cells": [
  {
   "cell_type": "markdown",
   "metadata": {},
   "source": [
    "# VacationPy\n",
    "----\n",
    "\n",
    "#### Note\n",
    "* Keep an eye on your API usage. Use https://developers.google.com/maps/reporting/gmp-reporting as reference for how to monitor your usage and billing.\n",
    "\n",
    "* Instructions have been included for each segment. You do not have to follow them exactly, but they are included to help you think through the steps."
   ]
  },
  {
   "cell_type": "code",
   "execution_count": null,
   "metadata": {},
   "outputs": [],
   "source": [
    "# Dependencies and Setup\n",
    "import matplotlib.pyplot as plt\n",
    "import pandas as pd\n",
    "import numpy as np\n",
    "import requests\n",
    "import gmaps\n",
    "import os\n",
    "\n",
    "# Import API key\n",
    "from api_keys import g_key"
   ]
  },
  {
   "cell_type": "markdown",
   "metadata": {},
   "source": [
    "### Store Part I results into DataFrame\n",
    "* Load the csv exported in Part I to a DataFrame"
   ]
  },
  {
   "cell_type": "code",
   "execution_count": null,
   "metadata": {},
   "outputs": [],
   "source": [
    "# df = pd.read_csv(\"../Weather/output_data/cities.csv\")\n",
    "df.loc[:, ~df.columns.str.contains('^Unnamed')]"
   ]
  },
  {
   "cell_type": "code",
   "execution_count": null,
   "metadata": {},
   "outputs": [],
   "source": [
    "# Configure Gmaps\n",
    "gmaps.configure(api_key=api)"
   ]
  },
  {
   "cell_type": "code",
   "execution_count": null,
   "metadata": {},
   "outputs": [],
   "source": [
    "# Use the Lat and Lng as locations and Humidity as the weight.\n",
    "locations = df[[\"Latitude\", \"Longitude\"]].astype(float)"
   ]
  },
  {
   "cell_type": "code",
   "execution_count": null,
   "metadata": {},
   "outputs": [],
   "source": [
    "# Initialize (Heat)map\n",
    "fig = gmaps.figure()\n",
    "\n",
    "gmap_layer = gmaps.heatmap_layer(\n",
    "    locations, \n",
    "    weights=df[\"Humidity\"],\n",
    "    dissipating=False,\n",
    "    max_intensity=100,\n",
    "    point_radius = 1\n",
    ")\n",
    "fig.add_layer(gmap_layer)\n",
    "fig"
   ]
  },
  {
   "cell_type": "markdown",
   "metadata": {},
   "source": [
    "### Create new DataFrame fitting weather criteria\n",
    "* Narrow down the cities to fit weather conditions.\n",
    "* Drop any rows will null values."
   ]
  },
  {
   "cell_type": "code",
   "execution_count": null,
   "metadata": {},
   "outputs": [],
   "source": [
    "# Narrow down the DataFrame to find your ideal weather condition. For example:\n",
    "#     - A max temperature lower than 80 degrees but higher than 70.\n",
    "#     - Wind speed less than 10 mph.\n",
    "#     - Zero cloudiness.\n",
    "#     - Drop any rows that don't contain all three conditions. You want to be sure the weather is ideal.\n",
    "#\n",
    "# Note: Feel free to adjust to your specifications but be sure to limit the number of rows returned by \n",
    "#       your API requests to a reasonable number."
   ]
  },
  {
   "cell_type": "code",
   "execution_count": null,
   "metadata": {},
   "outputs": [],
   "source": [
    "vacation_spot = df[\n",
    "    (df['Max Temp(f)'] > 70) & \n",
    "    (df['Max Temp(f)'] < 80) &\n",
    "    (df['Wind Speed'] < 10.00) &\n",
    "    (df['Cloudiness'] > 0) &\n",
    "    (df['Cloudiness'] < 5)\n",
    "]\n",
    "vacation_spot\n"
   ]
  },
  {
   "cell_type": "markdown",
   "metadata": {},
   "source": [
    "### Hotel Map\n",
    "* Store into variable named `hotel_df`.\n",
    "* Add a \"Hotel Name\" column to the DataFrame.\n",
    "* Set parameters to search for hotels with 5000 meters.\n",
    "* Hit the Google Places API for each city's coordinates.\n",
    "* Store the first Hotel result into the DataFrame.\n",
    "* Plot markers on top of the heatmap."
   ]
  },
  {
   "cell_type": "code",
   "execution_count": null,
   "metadata": {},
   "outputs": [],
   "source": [
    "# Store into hotel_df\n",
    "hotel_df = pd.DataFrame(data=vacation_spot)\n"
   ]
  },
  {
   "cell_type": "code",
   "execution_count": null,
   "metadata": {},
   "outputs": [],
   "source": [
    "# Add a \"Hotel Name\" column into the DataFrame\n",
    "hotel_df.loc[:,'Hotel Name'] = np.nan"
   ]
  },
  {
   "cell_type": "code",
   "execution_count": null,
   "metadata": {},
   "outputs": [],
   "source": [
    "# Set parameters to search for hotels within 5000 meters\n",
    "target_radius = 5000\n",
    "target_type = \"hotel\"\n",
    "target_search = \"hotel\"\n"
   ]
  },
  {
   "cell_type": "code",
   "execution_count": null,
   "metadata": {},
   "outputs": [],
   "source": [
    "# Hit the Google Places API for each city's coordinates\n",
    "\n",
    "hotel_df.loc[:,\"Coordinates\"] = hotel_df.loc[:,\"Latitude\"].astype(str) +\",\" + hotel_df.loc[:,\"Longitude\"].astype(str)\n",
    "\n",
    "hotel_list = []\n",
    "\n",
    "for location in hotel_df[\"Coordinates\"]:\n",
    "    params = {\n",
    "        \"location\": location,\n",
    "        \"keyword\": target_search,\n",
    "        \"radius\": target_radius,\n",
    "        \"type\": target_type,\n",
    "        \"key\": api\n",
    "    }\n",
    "\n",
    "    gmaps_json = requests.get(\"https://maps.googleapis.com/maps/api/place/nearbysearch/json\", params=params).json()\n",
    "    \n",
    "    try:\n",
    "        hotel_list.append(gmaps_json[\"results\"][0][\"name\"])\n",
    "        \n",
    "    except:\n",
    "        hotel_list.append(\"N/A\")\n",
    "        print(f\"No hotels within 5km of {location}.\")\n",
    "\n",
    "hotel_df[\"Hotel Name\"] = hotel_list\n",
    "hotel_df.loc[:, ~hotel_df.columns.str.contains('^Unnamed')]"
   ]
  },
  {
   "cell_type": "code",
   "execution_count": null,
   "metadata": {},
   "outputs": [],
   "source": [
    "# NOTE: Do not change any of the code in this cell\n",
    "\n",
    "# Using the template add the hotel marks to the heatmap\n",
    "info_box_template = \"\"\"\n",
    "<dl>\n",
    "<dt>Name</dt><dd>{Hotel Name}</dd>\n",
    "<dt>City</dt><dd>{City}</dd>\n",
    "<dt>Country</dt><dd>{Country}</dd>\n",
    "</dl>\n",
    "\"\"\"\n",
    "# Store the DataFrame Row\n",
    "# NOTE: be sure to update with your DataFrame name\n",
    "hotel_info = [info_box_template.format(**row) for index, row in hotel_df.iterrows()]\n",
    "locations = hotel_df[[\"Lat\", \"Lng\"]]"
   ]
  },
  {
   "cell_type": "code",
   "execution_count": null,
   "metadata": {},
   "outputs": [],
   "source": [
    "# Add marker layer ontop of heat map\n",
    "new_fig = fig = gmaps.figure()\n",
    "\n",
    "markers = gmaps.marker_layer(locations, hotel_info)\n",
    "new_fig.add_layer(gmap_layer)\n",
    "new_fig.add_layer(markers)\n",
    "new_fig\n",
    "\n",
    "\n",
    "# Display figure\n"
   ]
  },
  {
   "cell_type": "code",
   "execution_count": null,
   "metadata": {},
   "outputs": [],
   "source": []
  }
 ],
 "metadata": {
  "kernelspec": {
   "display_name": "Python 3",
   "language": "python",
   "name": "python3"
  },
  "language_info": {
   "codemirror_mode": {
    "name": "ipython",
    "version": 3
   },
   "file_extension": ".py",
   "mimetype": "text/x-python",
   "name": "python",
   "nbconvert_exporter": "python",
   "pygments_lexer": "ipython3",
   "version": "3.8.3"
  },
  "latex_envs": {
   "LaTeX_envs_menu_present": true,
   "autoclose": false,
   "autocomplete": true,
   "bibliofile": "biblio.bib",
   "cite_by": "apalike",
   "current_citInitial": 1,
   "eqLabelWithNumbers": true,
   "eqNumInitial": 1,
   "hotkeys": {
    "equation": "Ctrl-E",
    "itemize": "Ctrl-I"
   },
   "labels_anchors": false,
   "latex_user_defs": false,
   "report_style_numbering": false,
   "user_envs_cfg": false
  }
 },
 "nbformat": 4,
 "nbformat_minor": 4
}
